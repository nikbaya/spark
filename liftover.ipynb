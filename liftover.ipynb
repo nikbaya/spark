{
 "cells": [
  {
   "cell_type": "code",
   "execution_count": 1,
   "metadata": {},
   "outputs": [],
   "source": [
    "import hail as hl"
   ]
  },
  {
   "cell_type": "code",
   "execution_count": 2,
   "metadata": {},
   "outputs": [
    {
     "name": "stderr",
     "output_type": "stream",
     "text": [
      "Initializing Spark and Hail with default parameters...\n",
      "Running on Apache Spark version 2.4.3\n",
      "SparkUI available at http://nb1-m.c.genotype-qc-neale-lab.internal:4040\n",
      "Welcome to\n",
      "     __  __     <>__\n",
      "    / /_/ /__  __/ /\n",
      "   / __  / _ `/ / /\n",
      "  /_/ /_/\\_,_/_/_/   version 0.2.19-c6ec8b76eb26\n",
      "LOGGING: writing to /home/hail/hail-20190823-1140-0.2.19-c6ec8b76eb26.log\n"
     ]
    }
   ],
   "source": [
    "rg37 = hl.get_reference('GRCh37')\n",
    "rg38 = hl.get_reference('GRCh38')"
   ]
  },
  {
   "cell_type": "code",
   "execution_count": 3,
   "metadata": {},
   "outputs": [],
   "source": [
    "rg38.add_liftover('gs://hail-common/references/grch38_to_grch37.over.chain.gz', rg37) "
   ]
  },
  {
   "cell_type": "markdown",
   "metadata": {},
   "source": [
    "## Perform GRCh38 -> GRCh37 liftover for SPARK"
   ]
  },
  {
   "cell_type": "code",
   "execution_count": 27,
   "metadata": {},
   "outputs": [],
   "source": [
    "wd = 'gs://qc-nbaya/spark/array_May2019/'\n",
    "bfile = wd+'SPARK.27K.genotype.20190501'"
   ]
  },
  {
   "cell_type": "code",
   "execution_count": 6,
   "metadata": {},
   "outputs": [
    {
     "name": "stderr",
     "output_type": "stream",
     "text": [
      "2019-08-01 20:48:14 Hail: INFO: Found 27099 samples in fam file.\n",
      "2019-08-01 20:48:14 Hail: INFO: Found 632015 variants in bim file.\n"
     ]
    }
   ],
   "source": [
    "mt = hl.methods.import_plink(bed=bfile+'.bed',\n",
    "                            bim=bfile+'.bim',\n",
    "                            fam=bfile+'.fam',\n",
    "                            reference_genome=rg38)"
   ]
  },
  {
   "cell_type": "code",
   "execution_count": 5,
   "metadata": {},
   "outputs": [
    {
     "name": "stdout",
     "output_type": "stream",
     "text": [
      "----------------------------------------\n",
      "Global fields:\n",
      "    None\n",
      "----------------------------------------\n",
      "Column fields:\n",
      "    's': str\n",
      "    'fam_id': str\n",
      "    'pat_id': str\n",
      "    'mat_id': str\n",
      "    'is_female': bool\n",
      "    'is_case': bool\n",
      "----------------------------------------\n",
      "Row fields:\n",
      "    'locus': locus<GRCh38>\n",
      "    'alleles': array<str>\n",
      "    'rsid': str\n",
      "    'cm_position': float64\n",
      "----------------------------------------\n",
      "Entry fields:\n",
      "    'GT': call\n",
      "----------------------------------------\n",
      "Column key: ['s']\n",
      "Row key: ['locus', 'alleles']\n",
      "----------------------------------------\n"
     ]
    }
   ],
   "source": [
    "mt.describe()"
   ]
  },
  {
   "cell_type": "code",
   "execution_count": 17,
   "metadata": {},
   "outputs": [],
   "source": [
    "mt = mt.annotate_rows(locus_rg37 = hl.liftover(x=mt.locus,\n",
    "                                               dest_reference_genome='GRCh37',\n",
    "                                              include_strand=True))"
   ]
  },
  {
   "cell_type": "code",
   "execution_count": 18,
   "metadata": {},
   "outputs": [
    {
     "name": "stderr",
     "output_type": "stream",
     "text": [
      "2019-08-01 20:59:53 Hail: INFO: Ordering unsorted dataset with network shuffle\n"
     ]
    },
    {
     "data": {
      "text/plain": [
       "Struct(mean=8.385916723100193e-05, stdev=0.009157081132712172, min=0.0, max=1.0, n=632012, sum=52.999999999999986)"
      ]
     },
     "execution_count": 18,
     "metadata": {},
     "output_type": "execute_result"
    }
   ],
   "source": [
    "mt.aggregate_rows(hl.agg.stats(mt.locus_rg37.is_negative_strand))"
   ]
  },
  {
   "cell_type": "code",
   "execution_count": 22,
   "metadata": {},
   "outputs": [
    {
     "name": "stderr",
     "output_type": "stream",
     "text": [
      "2019-08-01 21:02:54 Hail: INFO: Ordering unsorted dataset with network shuffle\n"
     ]
    },
    {
     "name": "stdout",
     "output_type": "stream",
     "text": [
      "632012\n"
     ]
    }
   ],
   "source": [
    "mt1 = mt.filter_rows(hl.is_defined(mt.locus_rg37))\n",
    "print(mt1.count_rows())"
   ]
  },
  {
   "cell_type": "code",
   "execution_count": 23,
   "metadata": {},
   "outputs": [
    {
     "name": "stderr",
     "output_type": "stream",
     "text": [
      "2019-08-01 21:03:12 Hail: INFO: Ordering unsorted dataset with network shuffle\n"
     ]
    },
    {
     "name": "stdout",
     "output_type": "stream",
     "text": [
      "631959\n"
     ]
    }
   ],
   "source": [
    "mt2 = mt1.filter_rows(~mt1.locus_rg37.is_negative_strand)\n",
    "print(mt2.count_rows())"
   ]
  },
  {
   "cell_type": "code",
   "execution_count": 38,
   "metadata": {},
   "outputs": [],
   "source": [
    "mt2 = mt2.annotate_rows(new_locus = mt2.locus_rg37.result)\n",
    "mt3 = mt2.key_rows_by(*[mt2.new_locus,mt2.alleles])"
   ]
  },
  {
   "cell_type": "code",
   "execution_count": 39,
   "metadata": {},
   "outputs": [],
   "source": [
    "mt4 = mt3.drop('locus')\n",
    "mt4 = mt4.rename({'new_locus':'locus'})"
   ]
  },
  {
   "cell_type": "code",
   "execution_count": 43,
   "metadata": {},
   "outputs": [
    {
     "name": "stderr",
     "output_type": "stream",
     "text": [
      "2019-08-01 21:50:15 Hail: INFO: Ordering unsorted dataset with network shuffle\n"
     ]
    },
    {
     "data": {
      "text/plain": [
       "631959"
      ]
     },
     "execution_count": 43,
     "metadata": {},
     "output_type": "execute_result"
    }
   ],
   "source": [
    "mt4.count_rows()"
   ]
  },
  {
   "cell_type": "code",
   "execution_count": 40,
   "metadata": {
    "scrolled": true
   },
   "outputs": [
    {
     "name": "stdout",
     "output_type": "stream",
     "text": [
      "----------------------------------------\n",
      "Global fields:\n",
      "    None\n",
      "----------------------------------------\n",
      "Column fields:\n",
      "    's': str\n",
      "    'fam_id': str\n",
      "    'pat_id': str\n",
      "    'mat_id': str\n",
      "    'is_female': bool\n",
      "    'is_case': bool\n",
      "----------------------------------------\n",
      "Row fields:\n",
      "    'alleles': array<str>\n",
      "    'rsid': str\n",
      "    'cm_position': float64\n",
      "    'locus_rg37': struct {\n",
      "        result: locus<GRCh37>, \n",
      "        is_negative_strand: bool\n",
      "    }\n",
      "    'locus': locus<GRCh37>\n",
      "----------------------------------------\n",
      "Entry fields:\n",
      "    'GT': call\n",
      "----------------------------------------\n",
      "Column key: ['s']\n",
      "Row key: ['locus', 'alleles']\n",
      "----------------------------------------\n"
     ]
    }
   ],
   "source": [
    "mt4.describe()"
   ]
  },
  {
   "cell_type": "code",
   "execution_count": 41,
   "metadata": {},
   "outputs": [
    {
     "name": "stderr",
     "output_type": "stream",
     "text": [
      "2019-08-01 21:20:50 Hail: INFO: Ordering unsorted dataset with network shuffle\n",
      "2019-08-01 21:20:59 Hail: INFO: Ordering unsorted dataset with network shuffle\n",
      "2019-08-01 21:21:06 Hail: INFO: Ordering unsorted dataset with network shuffle\n",
      "2019-08-01 21:21:13 Hail: INFO: Ordering unsorted dataset with network shuffle\n",
      "2019-08-01 21:23:47 Hail: INFO: Ordering unsorted dataset with network shuffle\n",
      "2019-08-01 21:29:45 Hail: INFO: Ordering unsorted dataset with network shuffle\n",
      "2019-08-01 21:41:36 Hail: INFO: merging 33 files totalling 4.0G...\n",
      "2019-08-01 21:42:51 Hail: INFO: while writing:\n",
      "    gs://qc-nbaya/spark/array_May2019/SPARK.27K.genotype.20190501.liftover.bed\n",
      "  merge time: 1m14.9s\n",
      "2019-08-01 21:42:51 Hail: INFO: merging 32 files totalling 19.6M...\n",
      "2019-08-01 21:42:52 Hail: INFO: while writing:\n",
      "    gs://qc-nbaya/spark/array_May2019/SPARK.27K.genotype.20190501.liftover.bim\n",
      "  merge time: 1.320s\n",
      "2019-08-01 21:42:54 Hail: INFO: merging 4 files totalling 915.5K...\n",
      "2019-08-01 21:42:55 Hail: INFO: while writing:\n",
      "    gs://qc-nbaya/spark/array_May2019/SPARK.27K.genotype.20190501.liftover.fam\n",
      "  merge time: 545.883ms\n",
      "2019-08-01 21:42:55 Hail: INFO: wrote 631959 variants and 27099 samples to 'gs://qc-nbaya/spark/array_May2019/SPARK.27K.genotype.20190501.liftover'\n"
     ]
    }
   ],
   "source": [
    "hl.export_plink(dataset=mt4, \n",
    "                output=wd+'SPARK.27K.genotype.20190501.liftover',\n",
    "                call=mt4.GT,\n",
    "                fam_id=mt4.fam_id,\n",
    "                ind_id=mt4.s,\n",
    "                pat_id=mt4.pat_id,\n",
    "                mat_id=mt4.mat_id,\n",
    "                is_female=mt4.is_female,\n",
    "                pheno=mt4.is_case,\n",
    "                varid=mt4.rsid,\n",
    "                cm_position = mt4.cm_position)"
   ]
  },
  {
   "cell_type": "code",
   "execution_count": 42,
   "metadata": {},
   "outputs": [
    {
     "name": "stderr",
     "output_type": "stream",
     "text": [
      "2019-08-01 21:43:10 Hail: INFO: Ordering unsorted dataset with network shuffle\n",
      "2019-08-01 21:43:24 Hail: INFO: Ordering unsorted dataset with network shuffle\n",
      "2019-08-01 21:43:38 Hail: INFO: Ordering unsorted dataset with network shuffle\n",
      "2019-08-01 21:43:47 Hail: INFO: Ordering unsorted dataset with network shuffle\n"
     ]
    },
    {
     "data": {
      "text/html": [
       "<table><thead style=\"font-weight: bold;\"><tr><td>locus</td><td>alleles</td><td>rsid</td></tr>\n",
       "<tr><td>locus&lt;GRCh37&gt;</td><td>array&lt;str&gt;</td><td>str</td></tr>\n",
       "</thead><tbody><tr><td>1:565508</td><td>[&quot;A&quot;,&quot;G&quot;]</td><td>&quot;GSA-rs9283150&quot;</td></tr>\n",
       "<tr><td>1:726912</td><td>[&quot;A&quot;,&quot;G&quot;]</td><td>&quot;GSA-1:726912&quot;</td></tr>\n",
       "<tr><td>1:727841</td><td>[&quot;G&quot;,&quot;A&quot;]</td><td>&quot;GSA-rs116587930&quot;</td></tr>\n",
       "<tr><td>1:752721</td><td>[&quot;G&quot;,&quot;A&quot;]</td><td>&quot;rs3131972&quot;</td></tr>\n",
       "<tr><td>1:756268</td><td>[&quot;A&quot;,&quot;G&quot;]</td><td>&quot;rs12567639&quot;</td></tr>\n",
       "<tr><td>1:759036</td><td>[&quot;G&quot;,&quot;A&quot;]</td><td>&quot;GSA-rs114525117&quot;</td></tr>\n",
       "<tr><td>1:794332</td><td>[&quot;G&quot;,&quot;A&quot;]</td><td>&quot;rs12127425&quot;</td></tr>\n",
       "<tr><td>1:801536</td><td>[&quot;T&quot;,&quot;G&quot;]</td><td>&quot;GSA-rs79373928&quot;</td></tr>\n",
       "<tr><td>1:815421</td><td>[&quot;C&quot;,&quot;T&quot;]</td><td>&quot;GSA-rs72888853&quot;</td></tr>\n",
       "<tr><td>1:830181</td><td>[&quot;A&quot;,&quot;G&quot;]</td><td>&quot;rs28444699&quot;</td></tr>\n",
       "</tbody></table><p>showing top 10 rows</p>\n"
      ],
      "text/plain": [
       "+---------------+------------+-------------------+\n",
       "| locus         | alleles    | rsid              |\n",
       "+---------------+------------+-------------------+\n",
       "| locus<GRCh37> | array<str> | str               |\n",
       "+---------------+------------+-------------------+\n",
       "| 1:565508      | [\"A\",\"G\"]  | \"GSA-rs9283150\"   |\n",
       "| 1:726912      | [\"A\",\"G\"]  | \"GSA-1:726912\"    |\n",
       "| 1:727841      | [\"G\",\"A\"]  | \"GSA-rs116587930\" |\n",
       "| 1:752721      | [\"G\",\"A\"]  | \"rs3131972\"       |\n",
       "| 1:756268      | [\"A\",\"G\"]  | \"rs12567639\"      |\n",
       "| 1:759036      | [\"G\",\"A\"]  | \"GSA-rs114525117\" |\n",
       "| 1:794332      | [\"G\",\"A\"]  | \"rs12127425\"      |\n",
       "| 1:801536      | [\"T\",\"G\"]  | \"GSA-rs79373928\"  |\n",
       "| 1:815421      | [\"C\",\"T\"]  | \"GSA-rs72888853\"  |\n",
       "| 1:830181      | [\"A\",\"G\"]  | \"rs28444699\"      |\n",
       "+---------------+------------+-------------------+\n",
       "showing top 10 rows"
      ]
     },
     "metadata": {},
     "output_type": "display_data"
    }
   ],
   "source": [
    "mt4.rsid.show()"
   ]
  },
  {
   "cell_type": "markdown",
   "metadata": {},
   "source": [
    "## Perform GRCh38 –> GRCh37 liftover for HGDP\n",
    "HGDP is already filtered to SPARK rsids"
   ]
  },
  {
   "cell_type": "code",
   "execution_count": 5,
   "metadata": {},
   "outputs": [],
   "source": [
    "wd = 'gs://qc-nbaya/spark/array_May2019/'\n",
    "bfile = wd+'hgdp_wgs.spark.allchr'"
   ]
  },
  {
   "cell_type": "code",
   "execution_count": 6,
   "metadata": {},
   "outputs": [
    {
     "name": "stderr",
     "output_type": "stream",
     "text": [
      "2019-08-23 11:52:08 Hail: INFO: Found 929 samples in fam file.\n",
      "2019-08-23 11:52:08 Hail: INFO: Found 571831 variants in bim file.\n"
     ]
    }
   ],
   "source": [
    "mt = hl.methods.import_plink(bed=bfile+'.bed',\n",
    "                            bim=bfile+'.bim',\n",
    "                            fam=bfile+'.fam',\n",
    "                            reference_genome=rg38)"
   ]
  },
  {
   "cell_type": "code",
   "execution_count": 7,
   "metadata": {},
   "outputs": [
    {
     "name": "stdout",
     "output_type": "stream",
     "text": [
      "----------------------------------------\n",
      "Global fields:\n",
      "    None\n",
      "----------------------------------------\n",
      "Column fields:\n",
      "    's': str\n",
      "    'fam_id': str\n",
      "    'pat_id': str\n",
      "    'mat_id': str\n",
      "    'is_female': bool\n",
      "    'is_case': bool\n",
      "----------------------------------------\n",
      "Row fields:\n",
      "    'locus': locus<GRCh38>\n",
      "    'alleles': array<str>\n",
      "    'rsid': str\n",
      "    'cm_position': float64\n",
      "----------------------------------------\n",
      "Entry fields:\n",
      "    'GT': call\n",
      "----------------------------------------\n",
      "Column key: ['s']\n",
      "Row key: ['locus', 'alleles']\n",
      "----------------------------------------\n"
     ]
    }
   ],
   "source": [
    "mt.describe()"
   ]
  },
  {
   "cell_type": "code",
   "execution_count": 8,
   "metadata": {},
   "outputs": [],
   "source": [
    "mt = mt.annotate_rows(locus_rg37 = hl.liftover(x=mt.locus,\n",
    "                                               dest_reference_genome='GRCh37',\n",
    "                                               include_strand=True))"
   ]
  },
  {
   "cell_type": "code",
   "execution_count": 10,
   "metadata": {},
   "outputs": [
    {
     "name": "stderr",
     "output_type": "stream",
     "text": [
      "2019-08-23 11:53:58 Hail: INFO: Coerced sorted dataset\n",
      "2019-08-23 11:53:58 Hail: INFO: Coerced sorted dataset\n"
     ]
    },
    {
     "data": {
      "text/plain": [
       "Struct(mean=1.748771488029659e-06, stdev=0.0013224100838347922, min=0.0, max=1.0, n=571830, sum=1.0)"
      ]
     },
     "execution_count": 10,
     "metadata": {},
     "output_type": "execute_result"
    }
   ],
   "source": [
    "mt.aggregate_rows(hl.agg.stats(mt.locus_rg37.is_negative_strand))"
   ]
  },
  {
   "cell_type": "code",
   "execution_count": 11,
   "metadata": {},
   "outputs": [
    {
     "name": "stderr",
     "output_type": "stream",
     "text": [
      "2019-08-23 11:54:14 Hail: INFO: Coerced sorted dataset\n"
     ]
    },
    {
     "name": "stdout",
     "output_type": "stream",
     "text": [
      "571830\n"
     ]
    }
   ],
   "source": [
    "mt1 = mt.filter_rows(hl.is_defined(mt.locus_rg37))\n",
    "print(mt1.count_rows())"
   ]
  },
  {
   "cell_type": "code",
   "execution_count": 12,
   "metadata": {},
   "outputs": [
    {
     "name": "stderr",
     "output_type": "stream",
     "text": [
      "2019-08-23 11:54:22 Hail: INFO: Coerced sorted dataset\n"
     ]
    },
    {
     "name": "stdout",
     "output_type": "stream",
     "text": [
      "571829\n"
     ]
    }
   ],
   "source": [
    "mt2 = mt1.filter_rows(~mt1.locus_rg37.is_negative_strand)\n",
    "print(mt2.count_rows())"
   ]
  },
  {
   "cell_type": "code",
   "execution_count": 13,
   "metadata": {},
   "outputs": [],
   "source": [
    "mt2 = mt2.annotate_rows(new_locus = mt2.locus_rg37.result)\n",
    "mt3 = mt2.key_rows_by(*[mt2.new_locus,mt2.alleles])"
   ]
  },
  {
   "cell_type": "code",
   "execution_count": 14,
   "metadata": {},
   "outputs": [],
   "source": [
    "mt4 = mt3.drop('locus')\n",
    "mt4 = mt4.rename({'new_locus':'locus'})"
   ]
  },
  {
   "cell_type": "code",
   "execution_count": 17,
   "metadata": {},
   "outputs": [
    {
     "name": "stderr",
     "output_type": "stream",
     "text": [
      "2019-08-23 11:58:52 Hail: INFO: Coerced sorted dataset\n",
      "2019-08-23 11:58:56 Hail: INFO: Coerced sorted dataset\n",
      "2019-08-23 11:59:01 Hail: INFO: Coerced sorted dataset\n",
      "2019-08-23 11:59:06 Hail: INFO: Coerced sorted dataset\n",
      "2019-08-23 11:59:27 Hail: INFO: Coerced sorted dataset\n",
      "2019-08-23 11:59:49 Hail: INFO: Ordering unsorted dataset with network shuffle\n",
      "2019-08-23 12:01:40 Hail: INFO: merging 3 files totalling 127.1M...\n",
      "2019-08-23 12:01:52 Hail: INFO: while writing:\n",
      "    gs://qc-nbaya/spark/array_May2019/gs://qc-nbaya/spark/array_May2019/hgdp_wgs.spark.allchr.GRCh37.bed\n",
      "  merge time: 12.712s\n",
      "2019-08-23 12:01:59 Hail: INFO: merging 2 files totalling 16.6M...\n",
      "2019-08-23 12:02:03 Hail: INFO: while writing:\n",
      "    gs://qc-nbaya/spark/array_May2019/gs://qc-nbaya/spark/array_May2019/hgdp_wgs.spark.allchr.GRCh37.bim\n",
      "  merge time: 3.624s\n",
      "2019-08-23 12:02:04 Hail: INFO: merging 4 files totalling 21.8K...\n",
      "2019-08-23 12:02:05 Hail: INFO: while writing:\n",
      "    gs://qc-nbaya/spark/array_May2019/gs://qc-nbaya/spark/array_May2019/hgdp_wgs.spark.allchr.GRCh37.fam\n",
      "  merge time: 662.956ms\n",
      "2019-08-23 12:02:05 Hail: INFO: wrote 571829 variants and 929 samples to 'gs://qc-nbaya/spark/array_May2019/gs://qc-nbaya/spark/array_May2019/hgdp_wgs.spark.allchr.GRCh37'\n"
     ]
    }
   ],
   "source": [
    "hl.export_plink(dataset=mt4, \n",
    "                output=bfile+'.GRCh37',\n",
    "                call=mt4.GT,\n",
    "                fam_id=mt4.fam_id,\n",
    "                ind_id=mt4.s,\n",
    "                pat_id=mt4.pat_id,\n",
    "                mat_id=mt4.mat_id,\n",
    "                is_female=mt4.is_female,\n",
    "                pheno=mt4.is_case,\n",
    "                varid=mt4.rsid,\n",
    "                cm_position = mt4.cm_position)"
   ]
  }
 ],
 "metadata": {
  "kernelspec": {
   "display_name": "Python 3",
   "language": "python",
   "name": "python3"
  },
  "language_info": {
   "codemirror_mode": {
    "name": "ipython",
    "version": 3
   },
   "file_extension": ".py",
   "mimetype": "text/x-python",
   "name": "python",
   "nbconvert_exporter": "python",
   "pygments_lexer": "ipython3",
   "version": "3.6.8"
  }
 },
 "nbformat": 4,
 "nbformat_minor": 2
}
